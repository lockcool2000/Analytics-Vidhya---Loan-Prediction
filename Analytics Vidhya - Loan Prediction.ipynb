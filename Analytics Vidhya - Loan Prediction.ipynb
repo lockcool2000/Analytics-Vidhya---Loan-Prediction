{
 "cells": [
  {
   "cell_type": "markdown",
   "metadata": {},
   "source": [
    "# 檢查數據資料"
   ]
  },
  {
   "cell_type": "code",
   "execution_count": 71,
   "metadata": {},
   "outputs": [
    {
     "name": "stdout",
     "output_type": "stream",
     "text": [
      "Index(['Loan_ID', 'Gender', 'Married', 'Dependents', 'Education',\n",
      "       'Self_Employed', 'ApplicantIncome', 'CoapplicantIncome', 'LoanAmount',\n",
      "       'Loan_Amount_Term', 'Credit_History', 'Property_Area', 'Loan_Status'],\n",
      "      dtype='object')\n"
     ]
    },
    {
     "name": "stderr",
     "output_type": "stream",
     "text": [
      "/home/ubuntu/.local/lib/python3.5/site-packages/ipykernel_launcher.py:22: FutureWarning: Sorting because non-concatenation axis is not aligned. A future version\n",
      "of pandas will change to not sort by default.\n",
      "\n",
      "To accept the future behavior, pass 'sort=False'.\n",
      "\n",
      "To retain the current behavior and silence the warning, pass 'sort=True'.\n",
      "\n"
     ]
    }
   ],
   "source": [
    "import pandas as pd\n",
    "import sklearn.preprocessing as sp\n",
    "import sklearn.metrics as sm\n",
    "import matplotlib.pyplot as plt\n",
    "\n",
    "from xgboost import XGBRegressor\n",
    "from xgboost import XGBClassifier\n",
    "from xgboost import plot_importance\n",
    "\n",
    "data_train=pd.read_csv('train_ctrUa4K.csv')\n",
    "data_test=pd.read_csv('test_lAUu6dG.csv')\n",
    "\n",
    "data_id=data_test['Loan_ID']\n",
    "\n",
    "#取出 是否核貸 + 編碼\n",
    "data_train['Loan_Status']=data_train['Loan_Status'].replace('Y',1)\n",
    "data_train['Loan_Status']=data_train['Loan_Status'].replace('N',0)\n",
    "\n",
    "train_y=data_train['Loan_Status']\n",
    "\n",
    "#合併兩個檔案 \n",
    "data_all=pd.concat([data_train,data_test])\n",
    "\n",
    "#標頭排序\n",
    "data_all=data_all.reset_index(drop=True)\n",
    "\n",
    "# 查看屬性\n",
    "print(data_train.columns)"
   ]
  },
  {
   "cell_type": "code",
   "execution_count": null,
   "metadata": {},
   "outputs": [],
   "source": [
    "'''\n",
    "屬性說明:\n",
    "Loan_ID             Unique Loan ID\n",
    "Gender              Male/ Female\n",
    "Married             Applicant married (Y/N)\n",
    "Dependents          Number of dependents\n",
    "Education           Applicant Education (Graduate/ Under Graduate)\n",
    "Self_Employed       Self employed (Y/N)\n",
    "ApplicantIncome     Applicant income\n",
    "CoapplicantIncome   Coapplicant income\n",
    "LoanAmount          Loan amount in thousands\n",
    "Loan_Amount_Term    Term of loan in months\n",
    "Credit_History      credit history meets guidelines\n",
    "Property_Area       Urban/ Semi Urban/ Rural\n",
    "Loan_Status         Loan approved (Y/N)\n",
    "'''"
   ]
  },
  {
   "cell_type": "code",
   "execution_count": 50,
   "metadata": {},
   "outputs": [
    {
     "name": "stdout",
     "output_type": "stream",
     "text": [
      "    Loan_ID Gender Married Dependents     Education Self_Employed  \\\n",
      "0  LP001002   Male      No          0      Graduate            No   \n",
      "1  LP001003   Male     Yes          1      Graduate            No   \n",
      "2  LP001005   Male     Yes          0      Graduate           Yes   \n",
      "3  LP001006   Male     Yes          0  Not Graduate            No   \n",
      "4  LP001008   Male      No          0      Graduate            No   \n",
      "\n",
      "   ApplicantIncome  CoapplicantIncome  LoanAmount  Loan_Amount_Term  \\\n",
      "0             5849                0.0         NaN             360.0   \n",
      "1             4583             1508.0       128.0             360.0   \n",
      "2             3000                0.0        66.0             360.0   \n",
      "3             2583             2358.0       120.0             360.0   \n",
      "4             6000                0.0       141.0             360.0   \n",
      "\n",
      "   Credit_History Property_Area  Loan_Status  \n",
      "0             1.0         Urban            1  \n",
      "1             1.0         Rural            0  \n",
      "2             1.0         Urban            1  \n",
      "3             1.0         Urban            1  \n",
      "4             1.0         Urban            1  \n"
     ]
    }
   ],
   "source": [
    "# 前五筆資料\n",
    "print(data_train.head())"
   ]
  },
  {
   "cell_type": "code",
   "execution_count": 51,
   "metadata": {},
   "outputs": [
    {
     "name": "stdout",
     "output_type": "stream",
     "text": [
      "<class 'pandas.core.frame.DataFrame'>\n",
      "RangeIndex: 981 entries, 0 to 980\n",
      "Data columns (total 13 columns):\n",
      "ApplicantIncome      981 non-null int64\n",
      "CoapplicantIncome    981 non-null float64\n",
      "Credit_History       902 non-null float64\n",
      "Dependents           956 non-null object\n",
      "Education            981 non-null object\n",
      "Gender               957 non-null object\n",
      "LoanAmount           954 non-null float64\n",
      "Loan_Amount_Term     961 non-null float64\n",
      "Loan_ID              981 non-null object\n",
      "Loan_Status          614 non-null float64\n",
      "Married              978 non-null object\n",
      "Property_Area        981 non-null object\n",
      "Self_Employed        926 non-null object\n",
      "dtypes: float64(5), int64(1), object(7)\n",
      "memory usage: 99.7+ KB\n",
      "None\n"
     ]
    }
   ],
   "source": [
    "# 查看有無缺失值\n",
    "print(data_all.info())"
   ]
  },
  {
   "cell_type": "code",
   "execution_count": 52,
   "metadata": {},
   "outputs": [
    {
     "name": "stdout",
     "output_type": "stream",
     "text": [
      "       ApplicantIncome  CoapplicantIncome  Credit_History  LoanAmount  \\\n",
      "count       981.000000         981.000000      902.000000  954.000000   \n",
      "mean       5179.795107        1601.916330        0.835920  142.511530   \n",
      "std        5695.104533        2718.772806        0.370553   77.421743   \n",
      "min           0.000000           0.000000        0.000000    9.000000   \n",
      "25%        2875.000000           0.000000        1.000000  100.000000   \n",
      "50%        3800.000000        1110.000000        1.000000  126.000000   \n",
      "75%        5516.000000        2365.000000        1.000000  162.000000   \n",
      "max       81000.000000       41667.000000        1.000000  700.000000   \n",
      "\n",
      "       Loan_Amount_Term  Loan_Status  \n",
      "count        961.000000   614.000000  \n",
      "mean         342.201873     0.687296  \n",
      "std           65.100602     0.463973  \n",
      "min            6.000000     0.000000  \n",
      "25%          360.000000     0.000000  \n",
      "50%          360.000000     1.000000  \n",
      "75%          360.000000     1.000000  \n",
      "max          480.000000     1.000000  \n"
     ]
    }
   ],
   "source": [
    "#查看數值分布\n",
    "print(data_all.describe())"
   ]
  },
  {
   "cell_type": "code",
   "execution_count": 72,
   "metadata": {},
   "outputs": [
    {
     "name": "stdout",
     "output_type": "stream",
     "text": [
      "<class 'pandas.core.frame.DataFrame'>\n",
      "RangeIndex: 981 entries, 0 to 980\n",
      "Data columns (total 13 columns):\n",
      "ApplicantIncome      981 non-null int64\n",
      "CoapplicantIncome    981 non-null float64\n",
      "Credit_History       981 non-null float64\n",
      "Dependents           981 non-null object\n",
      "Education            981 non-null object\n",
      "Gender               981 non-null object\n",
      "LoanAmount           981 non-null float64\n",
      "Loan_Amount_Term     981 non-null float64\n",
      "Loan_ID              981 non-null object\n",
      "Loan_Status          614 non-null float64\n",
      "Married              981 non-null object\n",
      "Property_Area        981 non-null object\n",
      "Self_Employed        981 non-null object\n",
      "dtypes: float64(5), int64(1), object(7)\n",
      "memory usage: 99.7+ KB\n",
      "None\n"
     ]
    }
   ],
   "source": [
    "# 補缺失值 數字na轉成 均值  字符na轉成 nn\n",
    "o=['Gender','Married','Dependents','Self_Employed']\n",
    "data_all[o]=data_all[o].fillna('NN')\n",
    "\n",
    "data_all['LoanAmount']=data_all['LoanAmount'].fillna(142)\n",
    "data_all['Loan_Amount_Term']=data_all['Loan_Amount_Term'].fillna(342)\n",
    "data_all['Credit_History']=data_all['Credit_History'].fillna(0)\n",
    "print(data_all.info())"
   ]
  },
  {
   "cell_type": "markdown",
   "metadata": {},
   "source": [
    "# 屬性可視化\n",
    "### 屬性與核貸情況"
   ]
  },
  {
   "cell_type": "code",
   "execution_count": 54,
   "metadata": {},
   "outputs": [
    {
     "data": {
      "text/plain": [
       "<Figure size 432x288 with 0 Axes>"
      ]
     },
     "metadata": {},
     "output_type": "display_data"
    },
    {
     "data": {
      "image/png": "[encoded data removed]",
      "text/plain": [
       "<Figure size 432x288 with 1 Axes>"
      ]
     },
     "metadata": {},
     "output_type": "display_data"
    },
    {
     "data": {
      "text/html": [
       "<style  type=\"text/css\" >\n",
       "    #T_50bcb1e0_b1f4_11ea_a4fc_080027a2b094row0_col3 {\n",
       "            background-color:  #08306b;\n",
       "            color:  #f1f1f1;\n",
       "        }    #T_50bcb1e0_b1f4_11ea_a4fc_080027a2b094row1_col3 {\n",
       "            background-color:  #2f7fbc;\n",
       "            color:  #000000;\n",
       "        }    #T_50bcb1e0_b1f4_11ea_a4fc_080027a2b094row2_col3 {\n",
       "            background-color:  #f7fbff;\n",
       "            color:  #000000;\n",
       "        }</style><table id=\"T_50bcb1e0_b1f4_11ea_a4fc_080027a2b094\" ><thead>    <tr>        <th class=\"blank level0\" ></th>        <th class=\"col_heading level0 col0\" >Loan_Status1</th>        <th class=\"col_heading level0 col1\" >Loan_Status2</th>        <th class=\"col_heading level0 col2\" >Total</th>        <th class=\"col_heading level0 col3\" >%</th>    </tr></thead><tbody>\n",
       "                <tr>\n",
       "                        <th id=\"T_50bcb1e0_b1f4_11ea_a4fc_080027a2b094level0_row0\" class=\"row_heading level0 row0\" >Male</th>\n",
       "                        <td id=\"T_50bcb1e0_b1f4_11ea_a4fc_080027a2b094row0_col0\" class=\"data row0 col0\" >339</td>\n",
       "                        <td id=\"T_50bcb1e0_b1f4_11ea_a4fc_080027a2b094row0_col1\" class=\"data row0 col1\" >150</td>\n",
       "                        <td id=\"T_50bcb1e0_b1f4_11ea_a4fc_080027a2b094row0_col2\" class=\"data row0 col2\" >489</td>\n",
       "                        <td id=\"T_50bcb1e0_b1f4_11ea_a4fc_080027a2b094row0_col3\" class=\"data row0 col3\" >69.33</td>\n",
       "            </tr>\n",
       "            <tr>\n",
       "                        <th id=\"T_50bcb1e0_b1f4_11ea_a4fc_080027a2b094level0_row1\" class=\"row_heading level0 row1\" >Female</th>\n",
       "                        <td id=\"T_50bcb1e0_b1f4_11ea_a4fc_080027a2b094row1_col0\" class=\"data row1 col0\" >75</td>\n",
       "                        <td id=\"T_50bcb1e0_b1f4_11ea_a4fc_080027a2b094row1_col1\" class=\"data row1 col1\" >37</td>\n",
       "                        <td id=\"T_50bcb1e0_b1f4_11ea_a4fc_080027a2b094row1_col2\" class=\"data row1 col2\" >112</td>\n",
       "                        <td id=\"T_50bcb1e0_b1f4_11ea_a4fc_080027a2b094row1_col3\" class=\"data row1 col3\" >66.96</td>\n",
       "            </tr>\n",
       "            <tr>\n",
       "                        <th id=\"T_50bcb1e0_b1f4_11ea_a4fc_080027a2b094level0_row2\" class=\"row_heading level0 row2\" >NN</th>\n",
       "                        <td id=\"T_50bcb1e0_b1f4_11ea_a4fc_080027a2b094row2_col0\" class=\"data row2 col0\" >8</td>\n",
       "                        <td id=\"T_50bcb1e0_b1f4_11ea_a4fc_080027a2b094row2_col1\" class=\"data row2 col1\" >5</td>\n",
       "                        <td id=\"T_50bcb1e0_b1f4_11ea_a4fc_080027a2b094row2_col2\" class=\"data row2 col2\" >13</td>\n",
       "                        <td id=\"T_50bcb1e0_b1f4_11ea_a4fc_080027a2b094row2_col3\" class=\"data row2 col3\" >61.54</td>\n",
       "            </tr>\n",
       "    </tbody></table>"
      ],
      "text/plain": [
       "<pandas.io.formats.style.Styler at 0x7f14b34f36a0>"
      ]
     },
     "execution_count": 54,
     "metadata": {},
     "output_type": "execute_result"
    }
   ],
   "source": [
    "# Gender\n",
    "fig = plt.figure()\n",
    "fig.set(alpha=0.2) \n",
    "\n",
    "Loan_Status1 = data_all.Gender[data_all.Loan_Status == 1].value_counts()\n",
    "Loan_Status2 = data_all.Gender[data_all.Loan_Status == 0].value_counts()\n",
    "\n",
    "df=pd.DataFrame({'Loan_Status1':Loan_Status1,'Loan_Status2':Loan_Status2})\n",
    "\n",
    "df.plot(kind='bar',stacked=True)\n",
    "plt.title(\"Gender with Loan_Status\")\n",
    "plt.xlabel(\"Gender\") \n",
    "plt.ylabel(\"Number\") \n",
    "plt.legend()\n",
    "plt.show()\n",
    "\n",
    "# 查看貸款成功比例\n",
    "df['Total'] = df['Loan_Status1']+df['Loan_Status2']\n",
    "df['%'] = (df['Loan_Status1'] / df['Total'])*100\n",
    "\n",
    "df.style.format('{:.2f}', subset='%').background_gradient('Blues',subset=\"%\")"
   ]
  },
  {
   "cell_type": "code",
   "execution_count": 55,
   "metadata": {},
   "outputs": [
    {
     "data": {
      "text/plain": [
       "<Figure size 432x288 with 0 Axes>"
      ]
     },
     "metadata": {},
     "output_type": "display_data"
    },
    {
     "data": {
      "image/png": "[encoded data removed]",
      "text/plain": [
       "<Figure size 432x288 with 1 Axes>"
      ]
     },
     "metadata": {},
     "output_type": "display_data"
    },
    {
     "data": {
      "text/html": [
       "<style  type=\"text/css\" >\n",
       "    #T_55772030_b1f4_11ea_a4fc_080027a2b094row0_col3 {\n",
       "            background-color:  #08306b;\n",
       "            color:  #f1f1f1;\n",
       "        }    #T_55772030_b1f4_11ea_a4fc_080027a2b094row1_col3 {\n",
       "            background-color:  #f7fbff;\n",
       "            color:  #000000;\n",
       "        }    #T_55772030_b1f4_11ea_a4fc_080027a2b094row2_col3 {\n",
       "            background-color:  #c9ddf0;\n",
       "            color:  #000000;\n",
       "        }</style><table id=\"T_55772030_b1f4_11ea_a4fc_080027a2b094\" ><thead>    <tr>        <th class=\"blank level0\" ></th>        <th class=\"col_heading level0 col0\" >Loan_Status1</th>        <th class=\"col_heading level0 col1\" >Loan_Status2</th>        <th class=\"col_heading level0 col2\" >Total</th>        <th class=\"col_heading level0 col3\" >%</th>    </tr></thead><tbody>\n",
       "                <tr>\n",
       "                        <th id=\"T_55772030_b1f4_11ea_a4fc_080027a2b094level0_row0\" class=\"row_heading level0 row0\" >NN</th>\n",
       "                        <td id=\"T_55772030_b1f4_11ea_a4fc_080027a2b094row0_col0\" class=\"data row0 col0\" >3</td>\n",
       "                        <td id=\"T_55772030_b1f4_11ea_a4fc_080027a2b094row0_col1\" class=\"data row0 col1\" >0</td>\n",
       "                        <td id=\"T_55772030_b1f4_11ea_a4fc_080027a2b094row0_col2\" class=\"data row0 col2\" >3</td>\n",
       "                        <td id=\"T_55772030_b1f4_11ea_a4fc_080027a2b094row0_col3\" class=\"data row0 col3\" >100.00</td>\n",
       "            </tr>\n",
       "            <tr>\n",
       "                        <th id=\"T_55772030_b1f4_11ea_a4fc_080027a2b094level0_row1\" class=\"row_heading level0 row1\" >No</th>\n",
       "                        <td id=\"T_55772030_b1f4_11ea_a4fc_080027a2b094row1_col0\" class=\"data row1 col0\" >134</td>\n",
       "                        <td id=\"T_55772030_b1f4_11ea_a4fc_080027a2b094row1_col1\" class=\"data row1 col1\" >79</td>\n",
       "                        <td id=\"T_55772030_b1f4_11ea_a4fc_080027a2b094row1_col2\" class=\"data row1 col2\" >213</td>\n",
       "                        <td id=\"T_55772030_b1f4_11ea_a4fc_080027a2b094row1_col3\" class=\"data row1 col3\" >62.91</td>\n",
       "            </tr>\n",
       "            <tr>\n",
       "                        <th id=\"T_55772030_b1f4_11ea_a4fc_080027a2b094level0_row2\" class=\"row_heading level0 row2\" >Yes</th>\n",
       "                        <td id=\"T_55772030_b1f4_11ea_a4fc_080027a2b094row2_col0\" class=\"data row2 col0\" >285</td>\n",
       "                        <td id=\"T_55772030_b1f4_11ea_a4fc_080027a2b094row2_col1\" class=\"data row2 col1\" >113</td>\n",
       "                        <td id=\"T_55772030_b1f4_11ea_a4fc_080027a2b094row2_col2\" class=\"data row2 col2\" >398</td>\n",
       "                        <td id=\"T_55772030_b1f4_11ea_a4fc_080027a2b094row2_col3\" class=\"data row2 col3\" >71.61</td>\n",
       "            </tr>\n",
       "    </tbody></table>"
      ],
      "text/plain": [
       "<pandas.io.formats.style.Styler at 0x7f14b48392e8>"
      ]
     },
     "execution_count": 55,
     "metadata": {},
     "output_type": "execute_result"
    }
   ],
   "source": [
    "# Married\n",
    "fig = plt.figure()\n",
    "fig.set(alpha=0.2) \n",
    "\n",
    "Loan_Status1 = data_all.Married[data_all.Loan_Status == 1].value_counts()\n",
    "Loan_Status2 = data_all.Married[data_all.Loan_Status == 0].value_counts()\n",
    "\n",
    "df=pd.DataFrame({'Loan_Status1':Loan_Status1,'Loan_Status2':Loan_Status2})\n",
    "\n",
    "df.plot(kind='bar',stacked=True)\n",
    "plt.title(\"Married with Loan_Status\")\n",
    "plt.xlabel(\"Married\") \n",
    "plt.ylabel(\"Number\") \n",
    "plt.legend()\n",
    "plt.show()\n",
    "\n",
    "# 查看貸款成功比例\n",
    "df['Loan_Status2']=df['Loan_Status2'].fillna(0) # 沒有貸款失敗次數 補0\n",
    "\n",
    "df['Total'] = df['Loan_Status1']+df['Loan_Status2']\n",
    "df['%'] = (df['Loan_Status1'] / df['Total'])*100\n",
    "\n",
    "df.style.format('{:.2f}', subset='%').background_gradient('Blues',subset=\"%\")"
   ]
  },
  {
   "cell_type": "code",
   "execution_count": 56,
   "metadata": {},
   "outputs": [
    {
     "data": {
      "text/plain": [
       "<Figure size 432x288 with 0 Axes>"
      ]
     },
     "metadata": {},
     "output_type": "display_data"
    },
    {
     "data": {
      "image/png": "[encoded data removed]",
      "text/plain": [
       "<Figure size 432x288 with 1 Axes>"
      ]
     },
     "metadata": {},
     "output_type": "display_data"
    },
    {
     "data": {
      "text/html": [
       "<style  type=\"text/css\" >\n",
       "    #T_5b3a87fa_b1f4_11ea_a4fc_080027a2b094row0_col3 {\n",
       "            background-color:  #4e9acb;\n",
       "            color:  #000000;\n",
       "        }    #T_5b3a87fa_b1f4_11ea_a4fc_080027a2b094row1_col3 {\n",
       "            background-color:  #b3d3e8;\n",
       "            color:  #000000;\n",
       "        }    #T_5b3a87fa_b1f4_11ea_a4fc_080027a2b094row2_col3 {\n",
       "            background-color:  #08306b;\n",
       "            color:  #f1f1f1;\n",
       "        }    #T_5b3a87fa_b1f4_11ea_a4fc_080027a2b094row3_col3 {\n",
       "            background-color:  #b3d3e8;\n",
       "            color:  #000000;\n",
       "        }    #T_5b3a87fa_b1f4_11ea_a4fc_080027a2b094row4_col3 {\n",
       "            background-color:  #f7fbff;\n",
       "            color:  #000000;\n",
       "        }</style><table id=\"T_5b3a87fa_b1f4_11ea_a4fc_080027a2b094\" ><thead>    <tr>        <th class=\"blank level0\" ></th>        <th class=\"col_heading level0 col0\" >Loan_Status1</th>        <th class=\"col_heading level0 col1\" >Loan_Status2</th>        <th class=\"col_heading level0 col2\" >Total</th>        <th class=\"col_heading level0 col3\" >%</th>    </tr></thead><tbody>\n",
       "                <tr>\n",
       "                        <th id=\"T_5b3a87fa_b1f4_11ea_a4fc_080027a2b094level0_row0\" class=\"row_heading level0 row0\" >0</th>\n",
       "                        <td id=\"T_5b3a87fa_b1f4_11ea_a4fc_080027a2b094row0_col0\" class=\"data row0 col0\" >238</td>\n",
       "                        <td id=\"T_5b3a87fa_b1f4_11ea_a4fc_080027a2b094row0_col1\" class=\"data row0 col1\" >107</td>\n",
       "                        <td id=\"T_5b3a87fa_b1f4_11ea_a4fc_080027a2b094row0_col2\" class=\"data row0 col2\" >345</td>\n",
       "                        <td id=\"T_5b3a87fa_b1f4_11ea_a4fc_080027a2b094row0_col3\" class=\"data row0 col3\" >68.99</td>\n",
       "            </tr>\n",
       "            <tr>\n",
       "                        <th id=\"T_5b3a87fa_b1f4_11ea_a4fc_080027a2b094level0_row1\" class=\"row_heading level0 row1\" >1</th>\n",
       "                        <td id=\"T_5b3a87fa_b1f4_11ea_a4fc_080027a2b094row1_col0\" class=\"data row1 col0\" >66</td>\n",
       "                        <td id=\"T_5b3a87fa_b1f4_11ea_a4fc_080027a2b094row1_col1\" class=\"data row1 col1\" >36</td>\n",
       "                        <td id=\"T_5b3a87fa_b1f4_11ea_a4fc_080027a2b094row1_col2\" class=\"data row1 col2\" >102</td>\n",
       "                        <td id=\"T_5b3a87fa_b1f4_11ea_a4fc_080027a2b094row1_col3\" class=\"data row1 col3\" >64.71</td>\n",
       "            </tr>\n",
       "            <tr>\n",
       "                        <th id=\"T_5b3a87fa_b1f4_11ea_a4fc_080027a2b094level0_row2\" class=\"row_heading level0 row2\" >2</th>\n",
       "                        <td id=\"T_5b3a87fa_b1f4_11ea_a4fc_080027a2b094row2_col0\" class=\"data row2 col0\" >76</td>\n",
       "                        <td id=\"T_5b3a87fa_b1f4_11ea_a4fc_080027a2b094row2_col1\" class=\"data row2 col1\" >25</td>\n",
       "                        <td id=\"T_5b3a87fa_b1f4_11ea_a4fc_080027a2b094row2_col2\" class=\"data row2 col2\" >101</td>\n",
       "                        <td id=\"T_5b3a87fa_b1f4_11ea_a4fc_080027a2b094row2_col3\" class=\"data row2 col3\" >75.25</td>\n",
       "            </tr>\n",
       "            <tr>\n",
       "                        <th id=\"T_5b3a87fa_b1f4_11ea_a4fc_080027a2b094level0_row3\" class=\"row_heading level0 row3\" >3+</th>\n",
       "                        <td id=\"T_5b3a87fa_b1f4_11ea_a4fc_080027a2b094row3_col0\" class=\"data row3 col0\" >33</td>\n",
       "                        <td id=\"T_5b3a87fa_b1f4_11ea_a4fc_080027a2b094row3_col1\" class=\"data row3 col1\" >18</td>\n",
       "                        <td id=\"T_5b3a87fa_b1f4_11ea_a4fc_080027a2b094row3_col2\" class=\"data row3 col2\" >51</td>\n",
       "                        <td id=\"T_5b3a87fa_b1f4_11ea_a4fc_080027a2b094row3_col3\" class=\"data row3 col3\" >64.71</td>\n",
       "            </tr>\n",
       "            <tr>\n",
       "                        <th id=\"T_5b3a87fa_b1f4_11ea_a4fc_080027a2b094level0_row4\" class=\"row_heading level0 row4\" >NN</th>\n",
       "                        <td id=\"T_5b3a87fa_b1f4_11ea_a4fc_080027a2b094row4_col0\" class=\"data row4 col0\" >9</td>\n",
       "                        <td id=\"T_5b3a87fa_b1f4_11ea_a4fc_080027a2b094row4_col1\" class=\"data row4 col1\" >6</td>\n",
       "                        <td id=\"T_5b3a87fa_b1f4_11ea_a4fc_080027a2b094row4_col2\" class=\"data row4 col2\" >15</td>\n",
       "                        <td id=\"T_5b3a87fa_b1f4_11ea_a4fc_080027a2b094row4_col3\" class=\"data row4 col3\" >60.00</td>\n",
       "            </tr>\n",
       "    </tbody></table>"
      ],
      "text/plain": [
       "<pandas.io.formats.style.Styler at 0x7f14b4837278>"
      ]
     },
     "execution_count": 56,
     "metadata": {},
     "output_type": "execute_result"
    }
   ],
   "source": [
    "# Dependents\n",
    "fig = plt.figure()\n",
    "fig.set(alpha=0.2) \n",
    "\n",
    "Loan_Status1 = data_all.Dependents[data_all.Loan_Status == 1].value_counts()\n",
    "Loan_Status2 = data_all.Dependents[data_all.Loan_Status == 0].value_counts()\n",
    "\n",
    "df=pd.DataFrame({'Loan_Status1':Loan_Status1,'Loan_Status2':Loan_Status2})\n",
    "\n",
    "df.plot(kind='bar',stacked=True)\n",
    "plt.title(\"Dependents with Loan_Status\")\n",
    "plt.xlabel(\"Dependents\") \n",
    "plt.ylabel(\"Number\") \n",
    "plt.legend()\n",
    "plt.show()\n",
    "\n",
    "# 查看貸款成功比例\n",
    "df['Total'] = df['Loan_Status1']+df['Loan_Status2']\n",
    "df['%'] = (df['Loan_Status1'] / df['Total'])*100\n",
    "\n",
    "df.style.format('{:.2f}', subset='%').background_gradient('Blues',subset=\"%\")"
   ]
  },
  {
   "cell_type": "code",
   "execution_count": 57,
   "metadata": {},
   "outputs": [
    {
     "data": {
      "text/plain": [
       "<Figure size 432x288 with 0 Axes>"
      ]
     },
     "metadata": {},
     "output_type": "display_data"
    },
    {
     "data": {
      "image/png": "[encoded data removed]",
      "text/plain": [
       "<Figure size 432x288 with 1 Axes>"
      ]
     },
     "metadata": {},
     "output_type": "display_data"
    },
    {
     "data": {
      "text/html": [
       "<style  type=\"text/css\" >\n",
       "    #T_5f38132c_b1f4_11ea_a4fc_080027a2b094row0_col3 {\n",
       "            background-color:  #08306b;\n",
       "            color:  #f1f1f1;\n",
       "        }    #T_5f38132c_b1f4_11ea_a4fc_080027a2b094row1_col3 {\n",
       "            background-color:  #f7fbff;\n",
       "            color:  #000000;\n",
       "        }</style><table id=\"T_5f38132c_b1f4_11ea_a4fc_080027a2b094\" ><thead>    <tr>        <th class=\"blank level0\" ></th>        <th class=\"col_heading level0 col0\" >Loan_Status1</th>        <th class=\"col_heading level0 col1\" >Loan_Status2</th>        <th class=\"col_heading level0 col2\" >Total</th>        <th class=\"col_heading level0 col3\" >%</th>    </tr></thead><tbody>\n",
       "                <tr>\n",
       "                        <th id=\"T_5f38132c_b1f4_11ea_a4fc_080027a2b094level0_row0\" class=\"row_heading level0 row0\" >Graduate</th>\n",
       "                        <td id=\"T_5f38132c_b1f4_11ea_a4fc_080027a2b094row0_col0\" class=\"data row0 col0\" >340</td>\n",
       "                        <td id=\"T_5f38132c_b1f4_11ea_a4fc_080027a2b094row0_col1\" class=\"data row0 col1\" >140</td>\n",
       "                        <td id=\"T_5f38132c_b1f4_11ea_a4fc_080027a2b094row0_col2\" class=\"data row0 col2\" >480</td>\n",
       "                        <td id=\"T_5f38132c_b1f4_11ea_a4fc_080027a2b094row0_col3\" class=\"data row0 col3\" >70.83</td>\n",
       "            </tr>\n",
       "            <tr>\n",
       "                        <th id=\"T_5f38132c_b1f4_11ea_a4fc_080027a2b094level0_row1\" class=\"row_heading level0 row1\" >Not Graduate</th>\n",
       "                        <td id=\"T_5f38132c_b1f4_11ea_a4fc_080027a2b094row1_col0\" class=\"data row1 col0\" >82</td>\n",
       "                        <td id=\"T_5f38132c_b1f4_11ea_a4fc_080027a2b094row1_col1\" class=\"data row1 col1\" >52</td>\n",
       "                        <td id=\"T_5f38132c_b1f4_11ea_a4fc_080027a2b094row1_col2\" class=\"data row1 col2\" >134</td>\n",
       "                        <td id=\"T_5f38132c_b1f4_11ea_a4fc_080027a2b094row1_col3\" class=\"data row1 col3\" >61.19</td>\n",
       "            </tr>\n",
       "    </tbody></table>"
      ],
      "text/plain": [
       "<pandas.io.formats.style.Styler at 0x7f14b35fcc18>"
      ]
     },
     "execution_count": 57,
     "metadata": {},
     "output_type": "execute_result"
    }
   ],
   "source": [
    "# Education\n",
    "fig = plt.figure()\n",
    "fig.set(alpha=0.2) \n",
    "\n",
    "Loan_Status1 = data_all.Education[data_all.Loan_Status == 1].value_counts()\n",
    "Loan_Status2 = data_all.Education[data_all.Loan_Status == 0].value_counts()\n",
    "\n",
    "df=pd.DataFrame({'Loan_Status1':Loan_Status1,'Loan_Status2':Loan_Status2})\n",
    "\n",
    "df.plot(kind='bar',stacked=True)\n",
    "plt.title(\"Education with Loan_Status\")\n",
    "plt.xlabel(\"Education\") \n",
    "plt.ylabel(\"Number\") \n",
    "plt.legend()\n",
    "plt.show()\n",
    "\n",
    "# 查看貸款成功比例\n",
    "df['Total'] = df['Loan_Status1']+df['Loan_Status2']\n",
    "df['%'] = (df['Loan_Status1'] / df['Total'])*100\n",
    "\n",
    "df.style.format('{:.2f}', subset='%').background_gradient('Blues',subset=\"%\")"
   ]
  },
  {
   "cell_type": "code",
   "execution_count": 58,
   "metadata": {},
   "outputs": [
    {
     "data": {
      "text/plain": [
       "<Figure size 432x288 with 0 Axes>"
      ]
     },
     "metadata": {},
     "output_type": "display_data"
    },
    {
     "data": {
      "image/png": "[encoded data removed]",
      "text/plain": [
       "<Figure size 432x288 with 1 Axes>"
      ]
     },
     "metadata": {},
     "output_type": "display_data"
    },
    {
     "data": {
      "text/html": [
       "<style  type=\"text/css\" >\n",
       "    #T_624b926e_b1f4_11ea_a4fc_080027a2b094row0_col3 {\n",
       "            background-color:  #08306b;\n",
       "            color:  #f1f1f1;\n",
       "        }    #T_624b926e_b1f4_11ea_a4fc_080027a2b094row1_col3 {\n",
       "            background-color:  #f7fbff;\n",
       "            color:  #000000;\n",
       "        }</style><table id=\"T_624b926e_b1f4_11ea_a4fc_080027a2b094\" ><thead>    <tr>        <th class=\"blank level0\" ></th>        <th class=\"col_heading level0 col0\" >Loan_Status1</th>        <th class=\"col_heading level0 col1\" >Loan_Status2</th>        <th class=\"col_heading level0 col2\" >Total</th>        <th class=\"col_heading level0 col3\" >%</th>    </tr></thead><tbody>\n",
       "                <tr>\n",
       "                        <th id=\"T_624b926e_b1f4_11ea_a4fc_080027a2b094level0_row0\" class=\"row_heading level0 row0\" >1.0</th>\n",
       "                        <td id=\"T_624b926e_b1f4_11ea_a4fc_080027a2b094row0_col0\" class=\"data row0 col0\" >378</td>\n",
       "                        <td id=\"T_624b926e_b1f4_11ea_a4fc_080027a2b094row0_col1\" class=\"data row0 col1\" >97</td>\n",
       "                        <td id=\"T_624b926e_b1f4_11ea_a4fc_080027a2b094row0_col2\" class=\"data row0 col2\" >475</td>\n",
       "                        <td id=\"T_624b926e_b1f4_11ea_a4fc_080027a2b094row0_col3\" class=\"data row0 col3\" >79.58</td>\n",
       "            </tr>\n",
       "            <tr>\n",
       "                        <th id=\"T_624b926e_b1f4_11ea_a4fc_080027a2b094level0_row1\" class=\"row_heading level0 row1\" >0.0</th>\n",
       "                        <td id=\"T_624b926e_b1f4_11ea_a4fc_080027a2b094row1_col0\" class=\"data row1 col0\" >44</td>\n",
       "                        <td id=\"T_624b926e_b1f4_11ea_a4fc_080027a2b094row1_col1\" class=\"data row1 col1\" >95</td>\n",
       "                        <td id=\"T_624b926e_b1f4_11ea_a4fc_080027a2b094row1_col2\" class=\"data row1 col2\" >139</td>\n",
       "                        <td id=\"T_624b926e_b1f4_11ea_a4fc_080027a2b094row1_col3\" class=\"data row1 col3\" >31.65</td>\n",
       "            </tr>\n",
       "    </tbody></table>"
      ],
      "text/plain": [
       "<pandas.io.formats.style.Styler at 0x7f14b35d0f98>"
      ]
     },
     "execution_count": 58,
     "metadata": {},
     "output_type": "execute_result"
    }
   ],
   "source": [
    "# Credit_History\n",
    "fig = plt.figure()\n",
    "fig.set(alpha=0.2) \n",
    "\n",
    "Loan_Status1 = data_all.Credit_History[data_all.Loan_Status == 1].value_counts()\n",
    "Loan_Status2 = data_all.Credit_History[data_all.Loan_Status == 0].value_counts()\n",
    "\n",
    "df=pd.DataFrame({'Loan_Status1':Loan_Status1,'Loan_Status2':Loan_Status2})\n",
    "\n",
    "df.plot(kind='bar',stacked=True)\n",
    "plt.title(\"Credit_History with Loan_Status\")\n",
    "plt.xlabel(\"Credit_History\") \n",
    "plt.ylabel(\"Number\") \n",
    "plt.legend()\n",
    "plt.show()\n",
    "\n",
    "# 查看貸款成功比例\n",
    "df['Total'] = df['Loan_Status1']+df['Loan_Status2']\n",
    "df['%'] = (df['Loan_Status1'] / df['Total'])*100\n",
    "\n",
    "df.style.format('{:.2f}', subset='%').background_gradient('Blues',subset=\"%\")"
   ]
  },
  {
   "cell_type": "code",
   "execution_count": 59,
   "metadata": {},
   "outputs": [
    {
     "data": {
      "text/plain": [
       "<Figure size 432x288 with 0 Axes>"
      ]
     },
     "metadata": {},
     "output_type": "display_data"
    },
    {
     "data": {
      "image/png": "[encoded data removed]",
      "text/plain": [
       "<Figure size 432x288 with 1 Axes>"
      ]
     },
     "metadata": {},
     "output_type": "display_data"
    },
    {
     "data": {
      "text/html": [
       "<style  type=\"text/css\" >\n",
       "    #T_662f867e_b1f4_11ea_a4fc_080027a2b094row0_col3 {\n",
       "            background-color:  #e7f0fa;\n",
       "            color:  #000000;\n",
       "        }    #T_662f867e_b1f4_11ea_a4fc_080027a2b094row1_col3 {\n",
       "            background-color:  #f7fbff;\n",
       "            color:  #000000;\n",
       "        }    #T_662f867e_b1f4_11ea_a4fc_080027a2b094row2_col3 {\n",
       "            background-color:  #08306b;\n",
       "            color:  #f1f1f1;\n",
       "        }</style><table id=\"T_662f867e_b1f4_11ea_a4fc_080027a2b094\" ><thead>    <tr>        <th class=\"blank level0\" ></th>        <th class=\"col_heading level0 col0\" >Loan_Status1</th>        <th class=\"col_heading level0 col1\" >Loan_Status2</th>        <th class=\"col_heading level0 col2\" >Total</th>        <th class=\"col_heading level0 col3\" >%</th>    </tr></thead><tbody>\n",
       "                <tr>\n",
       "                        <th id=\"T_662f867e_b1f4_11ea_a4fc_080027a2b094level0_row0\" class=\"row_heading level0 row0\" >No</th>\n",
       "                        <td id=\"T_662f867e_b1f4_11ea_a4fc_080027a2b094row0_col0\" class=\"data row0 col0\" >343</td>\n",
       "                        <td id=\"T_662f867e_b1f4_11ea_a4fc_080027a2b094row0_col1\" class=\"data row0 col1\" >157</td>\n",
       "                        <td id=\"T_662f867e_b1f4_11ea_a4fc_080027a2b094row0_col2\" class=\"data row0 col2\" >500</td>\n",
       "                        <td id=\"T_662f867e_b1f4_11ea_a4fc_080027a2b094row0_col3\" class=\"data row0 col3\" >68.60</td>\n",
       "            </tr>\n",
       "            <tr>\n",
       "                        <th id=\"T_662f867e_b1f4_11ea_a4fc_080027a2b094level0_row1\" class=\"row_heading level0 row1\" >Yes</th>\n",
       "                        <td id=\"T_662f867e_b1f4_11ea_a4fc_080027a2b094row1_col0\" class=\"data row1 col0\" >56</td>\n",
       "                        <td id=\"T_662f867e_b1f4_11ea_a4fc_080027a2b094row1_col1\" class=\"data row1 col1\" >26</td>\n",
       "                        <td id=\"T_662f867e_b1f4_11ea_a4fc_080027a2b094row1_col2\" class=\"data row1 col2\" >82</td>\n",
       "                        <td id=\"T_662f867e_b1f4_11ea_a4fc_080027a2b094row1_col3\" class=\"data row1 col3\" >68.29</td>\n",
       "            </tr>\n",
       "            <tr>\n",
       "                        <th id=\"T_662f867e_b1f4_11ea_a4fc_080027a2b094level0_row2\" class=\"row_heading level0 row2\" >NN</th>\n",
       "                        <td id=\"T_662f867e_b1f4_11ea_a4fc_080027a2b094row2_col0\" class=\"data row2 col0\" >23</td>\n",
       "                        <td id=\"T_662f867e_b1f4_11ea_a4fc_080027a2b094row2_col1\" class=\"data row2 col1\" >9</td>\n",
       "                        <td id=\"T_662f867e_b1f4_11ea_a4fc_080027a2b094row2_col2\" class=\"data row2 col2\" >32</td>\n",
       "                        <td id=\"T_662f867e_b1f4_11ea_a4fc_080027a2b094row2_col3\" class=\"data row2 col3\" >71.88</td>\n",
       "            </tr>\n",
       "    </tbody></table>"
      ],
      "text/plain": [
       "<pandas.io.formats.style.Styler at 0x7f14b3aeb9b0>"
      ]
     },
     "execution_count": 59,
     "metadata": {},
     "output_type": "execute_result"
    }
   ],
   "source": [
    "# Self_Employed\n",
    "fig = plt.figure()\n",
    "fig.set(alpha=0.2) \n",
    "\n",
    "Loan_Status1 = data_all.Self_Employed[data_all.Loan_Status == 1].value_counts()\n",
    "Loan_Status2 = data_all.Self_Employed[data_all.Loan_Status == 0].value_counts()\n",
    "\n",
    "df=pd.DataFrame({'Loan_Status1':Loan_Status1,'Loan_Status2':Loan_Status2})\n",
    "\n",
    "df.plot(kind='bar',stacked=True)\n",
    "plt.title(\"Self_Employed with Loan_Status\")\n",
    "plt.xlabel(\"Self_Employed\") \n",
    "plt.ylabel(\"Number\") \n",
    "plt.legend()\n",
    "plt.show()\n",
    "\n",
    "# 查看貸款成功比例\n",
    "df['Total'] = df['Loan_Status1']+df['Loan_Status2']\n",
    "df['%'] = (df['Loan_Status1'] / df['Total'])*100\n",
    "\n",
    "df.style.format('{:.2f}', subset='%').background_gradient('Blues',subset=\"%\")"
   ]
  },
  {
   "cell_type": "code",
   "execution_count": 60,
   "metadata": {},
   "outputs": [
    {
     "data": {
      "text/plain": [
       "<Figure size 432x288 with 0 Axes>"
      ]
     },
     "metadata": {},
     "output_type": "display_data"
    },
    {
     "data": {
      "image/png": "[encoded data removed]",
      "text/plain": [
       "<Figure size 432x288 with 1 Axes>"
      ]
     },
     "metadata": {},
     "output_type": "display_data"
    },
    {
     "data": {
      "text/html": [
       "<style  type=\"text/css\" >\n",
       "    #T_6aded648_b1f4_11ea_a4fc_080027a2b094row0_col3 {\n",
       "            background-color:  #f7fbff;\n",
       "            color:  #000000;\n",
       "        }    #T_6aded648_b1f4_11ea_a4fc_080027a2b094row1_col3 {\n",
       "            background-color:  #08306b;\n",
       "            color:  #f1f1f1;\n",
       "        }    #T_6aded648_b1f4_11ea_a4fc_080027a2b094row2_col3 {\n",
       "            background-color:  #bad6eb;\n",
       "            color:  #000000;\n",
       "        }</style><table id=\"T_6aded648_b1f4_11ea_a4fc_080027a2b094\" ><thead>    <tr>        <th class=\"blank level0\" ></th>        <th class=\"col_heading level0 col0\" >Loan_Status1</th>        <th class=\"col_heading level0 col1\" >Loan_Status2</th>        <th class=\"col_heading level0 col2\" >Total</th>        <th class=\"col_heading level0 col3\" >%</th>    </tr></thead><tbody>\n",
       "                <tr>\n",
       "                        <th id=\"T_6aded648_b1f4_11ea_a4fc_080027a2b094level0_row0\" class=\"row_heading level0 row0\" >Rural</th>\n",
       "                        <td id=\"T_6aded648_b1f4_11ea_a4fc_080027a2b094row0_col0\" class=\"data row0 col0\" >110</td>\n",
       "                        <td id=\"T_6aded648_b1f4_11ea_a4fc_080027a2b094row0_col1\" class=\"data row0 col1\" >69</td>\n",
       "                        <td id=\"T_6aded648_b1f4_11ea_a4fc_080027a2b094row0_col2\" class=\"data row0 col2\" >179</td>\n",
       "                        <td id=\"T_6aded648_b1f4_11ea_a4fc_080027a2b094row0_col3\" class=\"data row0 col3\" >61.45</td>\n",
       "            </tr>\n",
       "            <tr>\n",
       "                        <th id=\"T_6aded648_b1f4_11ea_a4fc_080027a2b094level0_row1\" class=\"row_heading level0 row1\" >Semiurban</th>\n",
       "                        <td id=\"T_6aded648_b1f4_11ea_a4fc_080027a2b094row1_col0\" class=\"data row1 col0\" >179</td>\n",
       "                        <td id=\"T_6aded648_b1f4_11ea_a4fc_080027a2b094row1_col1\" class=\"data row1 col1\" >54</td>\n",
       "                        <td id=\"T_6aded648_b1f4_11ea_a4fc_080027a2b094row1_col2\" class=\"data row1 col2\" >233</td>\n",
       "                        <td id=\"T_6aded648_b1f4_11ea_a4fc_080027a2b094row1_col3\" class=\"data row1 col3\" >76.82</td>\n",
       "            </tr>\n",
       "            <tr>\n",
       "                        <th id=\"T_6aded648_b1f4_11ea_a4fc_080027a2b094level0_row2\" class=\"row_heading level0 row2\" >Urban</th>\n",
       "                        <td id=\"T_6aded648_b1f4_11ea_a4fc_080027a2b094row2_col0\" class=\"data row2 col0\" >133</td>\n",
       "                        <td id=\"T_6aded648_b1f4_11ea_a4fc_080027a2b094row2_col1\" class=\"data row2 col1\" >69</td>\n",
       "                        <td id=\"T_6aded648_b1f4_11ea_a4fc_080027a2b094row2_col2\" class=\"data row2 col2\" >202</td>\n",
       "                        <td id=\"T_6aded648_b1f4_11ea_a4fc_080027a2b094row2_col3\" class=\"data row2 col3\" >65.84</td>\n",
       "            </tr>\n",
       "    </tbody></table>"
      ],
      "text/plain": [
       "<pandas.io.formats.style.Styler at 0x7f14b3ad0fd0>"
      ]
     },
     "execution_count": 60,
     "metadata": {},
     "output_type": "execute_result"
    }
   ],
   "source": [
    "# Property_Area\n",
    "fig = plt.figure()\n",
    "fig.set(alpha=0.2) \n",
    "\n",
    "Loan_Status1 = data_all.Property_Area[data_all.Loan_Status == 1].value_counts()\n",
    "Loan_Status2 = data_all.Property_Area[data_all.Loan_Status == 0].value_counts()\n",
    "\n",
    "df=pd.DataFrame({'Loan_Status1':Loan_Status1,'Loan_Status2':Loan_Status2})\n",
    "\n",
    "df.plot(kind='bar',stacked=True)\n",
    "plt.title(\"Property_Area with Loan_Status\")\n",
    "plt.xlabel(\"Property_Area\") \n",
    "plt.ylabel(\"Number\") \n",
    "plt.legend()\n",
    "plt.show()\n",
    "\n",
    "# 查看貸款成功比例\n",
    "df['Total'] = df['Loan_Status1']+df['Loan_Status2']\n",
    "df['%'] = (df['Loan_Status1'] / df['Total'])*100\n",
    "\n",
    "df.style.format('{:.2f}', subset='%').background_gradient('Blues',subset=\"%\")"
   ]
  },
  {
   "cell_type": "markdown",
   "metadata": {},
   "source": [
    "### 由上圖可以得知:\n",
    "* 性別: 男性申請總數遠遠大於女性，申請核貸成功比例差距不大\n",
    "* 婚姻: 已結婚申請成功比例較大\n",
    "* 扶養: 單身申請案件最多，成功貸款也較高，但有扶養2人的貸款成功率也高\n",
    "* 學歷: 教育程度高，成功貸款機率也高\n",
    "* 紀錄: 有貸款紀錄也有助於核貸成功機率\n",
    "* 自營: 大多數申請者非自營\n",
    "* 地區: 在 Semiurban 貸款成功機率較高"
   ]
  },
  {
   "cell_type": "markdown",
   "metadata": {},
   "source": [
    "### 屬性相關性"
   ]
  },
  {
   "cell_type": "code",
   "execution_count": 61,
   "metadata": {},
   "outputs": [
    {
     "data": {
      "image/png": "[encoded data removed]",
      "text/plain": [
       "<Figure size 432x288 with 2 Axes>"
      ]
     },
     "metadata": {},
     "output_type": "display_data"
    }
   ],
   "source": [
    "import seaborn as sns\n",
    "\n",
    "# 屬性相關性\n",
    "corr=data_all.corr()\n",
    "\n",
    "# 畫關係圖 格線顏色\n",
    "sns.set_style('whitegrid')\n",
    "\n",
    "# 關係圖 顏色深 關係大\n",
    "sns.heatmap(corr,cmap='YlGnBu')\n",
    "\n",
    "plt.show()"
   ]
  },
  {
   "cell_type": "markdown",
   "metadata": {},
   "source": [
    "### 相關性較高\n",
    "* 貸款金額(LoanAmount) 與 申請人收入(ApplicantIncome)\n",
    "* 是否核貸(Loan_Status) 與 有無申請紀錄(Credit_History) "
   ]
  },
  {
   "cell_type": "markdown",
   "metadata": {},
   "source": [
    "# 機器學習"
   ]
  },
  {
   "cell_type": "code",
   "execution_count": 73,
   "metadata": {},
   "outputs": [],
   "source": [
    "# 僅將字串轉換為One hot encoding表示形式，沒指定columns會全部轉換\n",
    "data_dum = pd.get_dummies(data_all)\n",
    "data_dum=pd.DataFrame(data_dum)\n",
    "\n",
    "# 整個轉碼\n",
    "encoders,train_x=[],[]\n",
    "for row in data_dum:\n",
    "    encoder=sp.LabelEncoder()\n",
    "    train_x.append(encoder.fit_transform(data_dum[row]))\n",
    "    encoders.append(encoder)\n",
    "\n",
    "train_x=pd.DataFrame(train_x).T\n",
    "\n",
    "# 訓練\n",
    "train_x2=train_x[:614]\n",
    "\n",
    "modelx2=XGBClassifier(learning_rate=0.01,n_estimators=400,max_depth=10,min_child_weight=1,\n",
    "                      seed=0,subsample=0.8,colsample_bytree=0.8,gamma=0.2,reg_alpha=3,reg_lambda=0.05)\n",
    "\n",
    "modelx2.fit(train_x2,train_y)\n",
    "pred_y = modelx2.predict(train_x2)"
   ]
  },
  {
   "cell_type": "markdown",
   "metadata": {},
   "source": [
    "# 預測是否核貸 上傳至Analytics Vidhya"
   ]
  },
  {
   "cell_type": "code",
   "execution_count": 63,
   "metadata": {},
   "outputs": [
    {
     "name": "stdout",
     "output_type": "stream",
     "text": [
      "         Loan_Status\n",
      "Loan_ID             \n",
      "LP001015           Y\n",
      "LP001022           Y\n",
      "LP001031           Y\n",
      "LP001035           Y\n",
      "LP001051           Y\n"
     ]
    }
   ],
   "source": [
    "# 測試\n",
    "test_x=train_x[614:]\n",
    "\n",
    "pred_y2 = modelx2.predict(test_x)\n",
    "\n",
    "df=pd.DataFrame(pred_y2, columns=['Loan_Status'])\n",
    "df=df.replace(1,'Y')\n",
    "df=df.replace(0,'N')\n",
    "\n",
    "#抓取id\n",
    "ID=pd.DataFrame(data_id)\n",
    "\n",
    "#合併\n",
    "ans = ID.join(df)\n",
    "ans=ans.set_index('Loan_ID')\n",
    "print(ans.head())\n",
    "#ans.to_csv('one2.csv')"
   ]
  },
  {
   "attachments": {
    "one2.png": {
     "image/png": "[encoded data removed]"
    }
   },
   "cell_type": "markdown",
   "metadata": {},
   "source": [
    "![one2.png](attachment:one2.png)"
   ]
  },
  {
   "cell_type": "markdown",
   "metadata": {},
   "source": [
    "## xgboost 調整模型參數代碼\n",
    "#### 以下為帶入所有資料所得出的最佳參數"
   ]
  },
  {
   "cell_type": "code",
   "execution_count": 67,
   "metadata": {},
   "outputs": [
    {
     "name": "stdout",
     "output_type": "stream",
     "text": [
      "Fitting 5 folds for each of 5 candidates, totalling 25 fits\n"
     ]
    },
    {
     "name": "stderr",
     "output_type": "stream",
     "text": [
      "[Parallel(n_jobs=4)]: Using backend LokyBackend with 4 concurrent workers.\n",
      "[Parallel(n_jobs=4)]: Done  25 out of  25 | elapsed:  1.4min finished\n"
     ]
    },
    {
     "name": "stdout",
     "output_type": "stream",
     "text": [
      "参数的最佳取值：{'n_estimators': 400}\n",
      "最佳模型得分:1.0\n"
     ]
    }
   ],
   "source": [
    "import xgboost as xgb\n",
    "from sklearn.model_selection import GridSearchCV\n",
    "\n",
    "# 1、最佳迭代次数：n_estimators  \n",
    "cv_params = {'n_estimators': [400, 500, 600, 700, 800]}\n",
    "other_params = {'learning_rate': 0.1, 'n_estimators': 500, 'max_depth': 5, 'min_child_weight': 1,\n",
    "'seed': 0,'subsample': 0.8, 'colsample_bytree': 0.8, 'gamma': 0, 'reg_alpha': 0, 'reg_lambda': 1}\n",
    "\n",
    "# 2 , 3 , 4 ...逐一帶入\n",
    "\n",
    "model7 = xgb.XGBClassifier(**other_params)\n",
    "optimized_GBM = GridSearchCV(estimator=model7, param_grid=cv_params, scoring='r2', cv=5, verbose=1, n_jobs=4)\n",
    "\n",
    "optimized_GBM.fit(train_x2, train_y)\n",
    "\n",
    "print('参数的最佳取值：{0}'.format(optimized_GBM.best_params_))\n",
    "print('最佳模型得分:{0}'.format(optimized_GBM.best_score_))"
   ]
  },
  {
   "cell_type": "markdown",
   "metadata": {},
   "source": [
    "### 按照以下順序 將最佳參數帶入做測試 \n",
    "#### 將前一個最佳值帶入再測試"
   ]
  },
  {
   "cell_type": "code",
   "execution_count": null,
   "metadata": {},
   "outputs": [],
   "source": [
    "#2、调试的参数min_child_weight以及max_depth    /2 /4 / 0.9017\n",
    "# cv_params = {'max_depth': [3, 4, 5, 6, 7, 8, 9, 10], 'min_child_weight': [1, 2, 3, 4, 5, 6]}\n",
    "# other_params = {'learning_rate': 0.1, 'n_estimators': 400, 'max_depth': 5, 'min_child_weight': 1,\n",
    "# 'seed': 0,'subsample': 0.8, 'colsample_bytree': 0.8, 'gamma': 0, 'reg_alpha': 0, 'reg_lambda': 1}\n",
    "\n",
    "#3、调试参数：gamma： / 0.6 / 0.9026\n",
    "# cv_params = {'gamma': [0.1, 0.2, 0.3, 0.4, 0.5, 0.6]}\n",
    "# other_params = {'learning_rate': 0.1, 'n_estimators': 400, 'max_depth': 4, 'min_child_weight': 2,\n",
    "# 'seed': 0,'subsample': 0.8, 'colsample_bytree': 0.8, 'gamma': 0, 'reg_alpha': 0, 'reg_lambda': 1}\n",
    "\n",
    "#4、接着subsample及colsample_bytree： / 0.7 /0.7 / 0.9032\n",
    "# cv_params = {'subsample': [0.6, 0.7, 0.8, 0.9], 'colsample_bytree': [0.6, 0.7, 0.8, 0.9]}\n",
    "# other_params = {'learning_rate': 0.1, 'n_estimators': 400, 'max_depth': 4, 'min_child_weight': 2,\n",
    "# 'seed': 0,'subsample': 0.8, 'colsample_bytree': 0.8, 'gamma': 0.6, 'reg_alpha': 0, 'reg_lambda': 1}\n",
    "\n",
    "#5、紧接着reg_alpha及reg_lambda  / 2 / 3 / 0.9051\n",
    "# cv_params = {'reg_alpha': [0.05, 0.1, 1, 2, 3], 'reg_lambda': [0.05, 0.1, 1, 2, 3]}\n",
    "# other_params = {'learning_rate': 0.1, 'n_estimators': 400, 'max_depth': 4, 'min_child_weight': 2,\n",
    "# 'seed': 0,'subsample': 0.7, 'colsample_bytree': 0.7, 'gamma': 0.6, 'reg_alpha': 0, 'reg_lambda': 1}\n",
    "\n",
    "#6、最后learning_rate，这时候要调小学习率来测试： /0.07 / 0.9053\n",
    "# cv_params = {'learning_rate': [0.01, 0.05, 0.07, 0.1, 0.2]}\n",
    "# other_params = {'learning_rate': 0.1, 'n_estimators': 400, 'max_depth': 4, 'min_child_weight': 2,\n",
    "# 'seed': 0,'subsample': 0.7, 'colsample_bytree': 0.7, 'gamma': 0.6, 'reg_alpha': 2, 'reg_lambda': 3}"
   ]
  }
 ],
 "metadata": {
  "kernelspec": {
   "display_name": "Python 3",
   "language": "python",
   "name": "python3"
  },
  "language_info": {
   "codemirror_mode": {
    "name": "ipython",
    "version": 3
   },
   "file_extension": ".py",
   "mimetype": "text/x-python",
   "name": "python",
   "nbconvert_exporter": "python",
   "pygments_lexer": "ipython3",
   "version": "3.5.2"
  }
 },
 "nbformat": 4,
 "nbformat_minor": 2
}
